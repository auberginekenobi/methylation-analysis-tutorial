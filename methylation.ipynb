{
 "cells": [
  {
   "cell_type": "code",
   "execution_count": null,
   "id": "aed4aa6b-2c08-4824-94a9-71f90581b4a1",
   "metadata": {
    "tags": []
   },
   "outputs": [],
   "source": [
    "#######################################################################\n",
    "# MED 263:Bioinformatics Applications to Human Disease (Winter 2025)  #\n",
    "# Analysis of epigenetic data for precision cancer diagnosis          #\n",
    "# Lukas Chavez, Feb 2025                                              #\n",
    "# UC San Diego                                                        #\n",
    "#######################################################################"
   ]
  },
  {
   "cell_type": "code",
   "execution_count": null,
   "id": "66882667-8e59-469e-b15c-c4d64a69e193",
   "metadata": {
    "tags": []
   },
   "outputs": [],
   "source": [
    "library(minfi) # Package for loading and preprocessing methylation data from many sources including Illumina. See https://bioconductor.org/packages/devel/bioc/vignettes/minfi/inst/doc/minfi.html\n",
    "library(minfiData) # Example dataset for minfi vignette.\n",
    "library(conumee) # Package for estimating genomic copy number from methylation. See https://bioconductor.org/packages/devel/bioc/vignettes/conumee/inst/doc/conumee.html\n",
    "library(Rtsne) # t-stochastic neighbor embedding.\n",
    "library(sva) # one of many batch correction algorithms\n",
    "library(tictoc) # System time functions tic() and toc()"
   ]
  },
  {
   "cell_type": "code",
   "execution_count": null,
   "id": "69a13bb4-60c9-459d-8554-b12faef04343",
   "metadata": {
    "tags": []
   },
   "outputs": [],
   "source": [
    "#Identify Illumina Infinium raw data (idat files)\n",
    "# Set manually:\n",
    "baseDir <- system.file(\"extdata\", package = \"minfiData\")"
   ]
  },
  {
   "cell_type": "code",
   "execution_count": null,
   "id": "e3e2361a-581d-423a-b0ad-930bc05b0b19",
   "metadata": {
    "tags": []
   },
   "outputs": [],
   "source": [
    "#Warm-up exercises:\n",
    "########################\n",
    "#1.1) Show the location/path and content of baseDir. What are the R commands?\n",
    "#1.2) How many arrays and how many samples are in the example data?\n",
    "###########################\n",
    "\n",
    "#None of the following will work when minfi and minfidata cannot be installed\n",
    "\n",
    "#Import sample sheet\n",
    "targets <- minfi::read.metharray.sheet(baseDir)\n",
    "\n",
    "#Import entire metharray experiment using a sample sheet and returns an RGChannelSet (RGSet) object\n",
    "RGSet <- minfi::read.metharray.exp(targets = targets)\n",
    "\n",
    "#Sample information\n",
    "phenoData <- Biobase::pData(RGSet)\n",
    "\n",
    "#The manifest contains the information and annotation of the probes on the array\n",
    "manifest <- minfi::getManifest(RGSet)"
   ]
  },
  {
   "cell_type": "code",
   "execution_count": null,
   "id": "4e197c17-2d72-4221-a363-a7842aa8d83c",
   "metadata": {
    "tags": []
   },
   "outputs": [],
   "source": [
    "# You can view documentation using ?\n",
    "class(RGSet) # get the type of a variable\n",
    "?RGChannelSet # view the documentation of that type"
   ]
  },
  {
   "cell_type": "code",
   "execution_count": null,
   "id": "732b6940-9a49-4cf0-aba3-5174899edc71",
   "metadata": {
    "tags": []
   },
   "outputs": [],
   "source": [
    "#1.3) Fill in the numbers:\n",
    "###########################\n",
    "#Number of type I probes:  \n",
    "#Number of type II probes:  \n",
    "#Number of control probes:  \n",
    "###########################\n",
    "\n",
    "#Creation of a MethylSet without normalization\n",
    "MSet <- preprocessRaw(RGSet) \n",
    "\n",
    "#Show matrix of methylation values\n",
    "#methylated channel\n",
    "head(getMeth(MSet)[,1:6])\n",
    "dim(getMeth(MSet))\n",
    "\n",
    "#unmethylated channel\n",
    "head(getUnmeth(MSet)[,1:6])\n",
    "dim(getUnmeth(MSet))\n",
    "\n",
    "#Converting methylation data from methylation and unmethylation channels, to ratios (Beta-values).\n",
    "#Returns a ratioSet\n",
    "RSet <- ratioConvert(MSet, what = \"both\", keepCN = TRUE)\n",
    "\n",
    "#Extracts beta values\n",
    "beta <- getBeta(RSet)\n",
    "\n",
    "head(beta)"
   ]
  },
  {
   "cell_type": "code",
   "execution_count": null,
   "id": "baf9cd18-2d5c-457d-ad9c-d0faca518217",
   "metadata": {
    "tags": []
   },
   "outputs": [],
   "source": [
    "########################\n",
    "#1.4) How many probes are on the array? Is the example data 450k or 850k data?\n",
    "###########################\n",
    "\n",
    "#Map methylation data to the genome\n",
    "#Returns a GenomicRatioSet\n",
    "GRset <- mapToGenome(RSet)\n",
    "\n",
    "#Create new beta matrix based on ordered probes mapped to the genome\n",
    "beta <- getBeta(GRset)\n",
    "\n",
    "#Genomic locations of probes\n",
    "gr <- granges(GRset)"
   ]
  },
  {
   "cell_type": "code",
   "execution_count": null,
   "id": "d663f1f0-330c-45a4-8b64-fb16f9bc35fc",
   "metadata": {
    "tags": []
   },
   "outputs": [],
   "source": [
    "########################\n",
    "#1.5) What is the \"cg\" ID of the first probe on chromosome 1 (chr1, position 15,865)\n",
    "###########################\n",
    "\n",
    "#Access sample information from GRset\n",
    "sampleNames <- sampleNames(GRset)\n",
    "probeNames <- featureNames(GRset)\n",
    "pheno <- pData(GRset)\n",
    "\n",
    "#getQC/ matrixStats function deprecated\n",
    "#Estimate sample-specific quality control (QC) for methylation data\n",
    "#qc <- getQC(MSet)\n",
    "#plotQC(qc)\n",
    "\n",
    "#Distribution of beta values\n",
    "densityPlot(MSet, sampGroups = phenoData$Sample_Group)\n",
    "densityBeanPlot(MSet, sampGroups = phenoData$Sample_Group)"
   ]
  },
  {
   "cell_type": "code",
   "execution_count": null,
   "id": "90005fb4-0ac6-4479-9c94-0ac9d8f3ed4a",
   "metadata": {
    "tags": []
   },
   "outputs": [],
   "source": [
    "########################\n",
    "#1.6) One of the two groups (Group A and Group B) seem to have a slight increase in probes that have an intermediate methylation (0.2-0.6 beta). \n",
    "# Are those the normal or the cancer samples?\n",
    "###########################\n",
    "\n",
    "#getSeq/ matrixStats function deprecated\n",
    "#Biological sex prediction\n",
    "#med(X) = median total intensity of the X chromosome-mapped probes\n",
    "#med(Y) = median total intensity of the Y chromosome-mapped probes\n",
    "#predictedSex <- getSex(GRset, cutoff = -2)\n"
   ]
  },
  {
   "cell_type": "code",
   "execution_count": null,
   "id": "c5627f08-fa4b-47ab-b42c-c78d55741108",
   "metadata": {
    "tags": []
   },
   "outputs": [],
   "source": [
    "########################\n",
    "#SKIP - getSex/ matrixStats deprecated\n",
    "#1.x) Is sample 5723646053_R05C02 likely male or female? \n",
    "#1.x) True or false: The ratio of median measurements on the two sex chromosomes (xMed, yMed) is closer to 1 for male samples.\n",
    "###########################"
   ]
  },
  {
   "cell_type": "code",
   "execution_count": null,
   "id": "7dca581a-767d-4058-8e0e-49a33db83722",
   "metadata": {
    "tags": []
   },
   "outputs": [],
   "source": [
    "#################################################################\n",
    "# Exercise II\n",
    "# Stratification of patient medulloblastoma tumors by\n",
    "# clustering of Illumina Infinium DNA methylation array data\n",
    "#################################################################\n",
    "#Data published by Northcott et al., The whole-genome landscape of medulloblastoma subtypes, Nature 2017\n",
    "#Raw microarray available (access controlled, don't distribute) at European Genome-Phenome Archive (EGA, http://www.ebi.ac.uk/ega/), under accession number EGAS00001001953."
   ]
  },
  {
   "cell_type": "code",
   "execution_count": null,
   "id": "459e1fe4-2374-40c4-9807-a8b10441d610",
   "metadata": {
    "tags": []
   },
   "outputs": [],
   "source": [
    "# Load preprocessed beta values of 1,256 medulloblastoma patients stored \n",
    "# in the file MBlandscape_completed_unique.RData (provided with course material)\n",
    "tic(\"Load MB dataset\")\n",
    "load(url(\"https://datasets.genepattern.org/data/chapman/MBlandscape_subset_400.RData\")) #load the object 'allbeta'\n",
    "# load(\"data/MBlandscape_subset_400.RData\") # for a local dataset stored in ./data\n",
    "toc()"
   ]
  },
  {
   "cell_type": "code",
   "execution_count": null,
   "id": "99fa48c2-74fe-47d7-b17e-ade5364986e6",
   "metadata": {
    "tags": []
   },
   "outputs": [],
   "source": [
    "# For each CpG, calculate the standard deviation across the cohort and\n",
    "# order the CpGs according to their standard deviation (from top to bottom)\n",
    "# This takes awhile\n",
    "tic(\"Order CpG sites by variance\")\n",
    "allbeta.sd <- apply(allbeta, 1, sd, na.rm=TRUE)\n",
    "allbeta.ordered <- allbeta[order(allbeta.sd, decreasing=TRUE),]\n",
    "head(allbeta.ordered)\n",
    "toc()"
   ]
  },
  {
   "cell_type": "code",
   "execution_count": null,
   "id": "bb5a184f-6681-4f48-b592-e04fc5170a09",
   "metadata": {
    "tags": []
   },
   "outputs": [],
   "source": [
    "#Calculate Pearson correlation between all tumors based\n",
    "#on the 5k most variable CpGs\n",
    "tic(\"Sample correlation heatmap\")\n",
    "n.var = 5000\n",
    "b <- allbeta.ordered[1:n.var, ]\n",
    "\n",
    "#Caluclate Pearson correlations between samples/patients\n",
    "b.xcor <- cor(b, method=\"pearson\")\n",
    "\n",
    "# perform hierarchical sample clustering\n",
    "b.xdend <- as.dendrogram(hclust(as.dist(1-b.xcor), method=\"average\"))\n",
    "\n",
    "# Visualisation of pre-computed hierarchical sample/patient clustering\n",
    "cols <- colorRampPalette(c(\"blue\", \"white\", \"red\"))(100)\n",
    "heatmap(b.xcor, Rowv=b.xdend, col=cols, symm=TRUE, zlim=c(-1, 1), scale=\"none\", useRaster=TRUE,\n",
    "        cexCol=max(min(125*ncol(b)^-1.25, 1), 0.07), labRow=NA, main=paste(dim(b), collapse=\"x\"))\n",
    "#--> symmetric matrix of similarities between patients\n",
    "toc()\n",
    "# 8 min on my M2 2023 macbook pro"
   ]
  },
  {
   "cell_type": "code",
   "execution_count": null,
   "id": "13a8942f-ef2f-4692-b5cd-cbd8e513bc4f",
   "metadata": {
    "tags": []
   },
   "outputs": [],
   "source": [
    "# TSNE -  t-distributed stochastic neigborhood embedding\n",
    "# non-linear dimension reduction\n",
    "tic(\"t-sne\")\n",
    "set.seed(\"202401\")\n",
    "Y <- Rtsne(as.dist(1-b.xcor), verbose=FALSE, check_duplicates=FALSE, is_distance=TRUE,\n",
    "             perplexity=min(floor((ncol(b)-1)/3), 30), theta=0, pca=FALSE, max_iter=10000)$Y\n",
    "Y.range <- apply(Y, 2, range)\n",
    "Y.diff <- apply(Y.range, 2, diff)\n",
    "Y.center <- apply(Y.range, 2, mean)\n",
    "plot(Y, xlim=Y.center[1] + c(-0.5, 0.5)*max(Y.diff), ylim=Y.center[2] + c(-0.5, 0.5)*max(Y.diff),\n",
    "     xlab=\"TSNE 1\", ylab=\"TSNE 2\", pch=20, cex=1, col=\"black\", main=paste(dim(b), collapse=\"x\"), las=2)\n",
    "toc()"
   ]
  },
  {
   "cell_type": "code",
   "execution_count": null,
   "id": "5a41c504-cdd0-41e8-9d82-9db1c1bdc38f",
   "metadata": {},
   "outputs": [],
   "source": [
    "########################\n",
    "#1.7) Cluster the medulloblastoma samples/patients into four subtypes using k-means and replot the t-sne by assigning distinct colors according to the k-means clusters.\n",
    "###########################\n",
    " "
   ]
  }
 ],
 "metadata": {
  "kernelspec": {
   "display_name": "methylation-analysis-tutorial",
   "language": "R",
   "name": "methylation-analysis-tutorial"
  },
  "language_info": {
   "codemirror_mode": "r",
   "file_extension": ".r",
   "mimetype": "text/x-r-source",
   "name": "R",
   "pygments_lexer": "r",
   "version": "4.2.3"
  }
 },
 "nbformat": 4,
 "nbformat_minor": 5
}
