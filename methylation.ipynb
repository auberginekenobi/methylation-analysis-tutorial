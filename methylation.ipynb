{
 "cells": [
  {
   "cell_type": "code",
   "execution_count": 2,
   "id": "66882667-8e59-469e-b15c-c4d64a69e193",
   "metadata": {
    "tags": []
   },
   "outputs": [
    {
     "name": "stderr",
     "output_type": "stream",
     "text": [
      "Loading required package: IlluminaHumanMethylation450kanno.ilmn12.hg19\n",
      "\n",
      "Loading required package: IlluminaHumanMethylation450kmanifest\n",
      "\n",
      "Loading required package: IlluminaHumanMethylationEPICanno.ilm10b2.hg19\n",
      "\n",
      "\n",
      "Attaching package: ‘IlluminaHumanMethylationEPICanno.ilm10b2.hg19’\n",
      "\n",
      "\n",
      "The following objects are masked from ‘package:IlluminaHumanMethylation450kanno.ilmn12.hg19’:\n",
      "\n",
      "    Islands.UCSC, Locations, Manifest, Other, SNPs.132CommonSingle,\n",
      "    SNPs.135CommonSingle, SNPs.137CommonSingle, SNPs.138CommonSingle,\n",
      "    SNPs.141CommonSingle, SNPs.142CommonSingle, SNPs.144CommonSingle,\n",
      "    SNPs.146CommonSingle, SNPs.147CommonSingle, SNPs.Illumina\n",
      "\n",
      "\n",
      "Loading required package: IlluminaHumanMethylationEPICmanifest\n",
      "\n"
     ]
    }
   ],
   "source": [
    "library(minfi)\n",
    "library(conumee)"
   ]
  },
  {
   "cell_type": "code",
   "execution_count": null,
   "id": "aed4aa6b-2c08-4824-94a9-71f90581b4a1",
   "metadata": {},
   "outputs": [],
   "source": []
  }
 ],
 "metadata": {
  "kernelspec": {
   "display_name": "methylation-analysis-tutorial",
   "language": "R",
   "name": "methylation-analysis-tutorial"
  },
  "language_info": {
   "codemirror_mode": "r",
   "file_extension": ".r",
   "mimetype": "text/x-r-source",
   "name": "R",
   "pygments_lexer": "r",
   "version": "4.2.3"
  }
 },
 "nbformat": 4,
 "nbformat_minor": 5
}
