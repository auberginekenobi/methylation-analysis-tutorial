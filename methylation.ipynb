{
 "cells": [
  {
   "cell_type": "markdown",
   "id": "355e3f6d-7c8b-4820-8cbc-e65006e733d8",
   "metadata": {
    "tags": []
   },
   "source": [
    "# Methylation analysis tutorial\n",
    "Authors: Owen Chapman, Lukas Chavez  \n",
    "Nagoya City University and UC San Diego  \n",
    "Last updated July 2025  "
   ]
  },
  {
   "cell_type": "code",
   "execution_count": null,
   "id": "66882667-8e59-469e-b15c-c4d64a69e193",
   "metadata": {
    "scrolled": true,
    "tags": []
   },
   "outputs": [],
   "source": [
    "suppressPackageStartupMessages(library(dplyr))\n",
    "suppressPackageStartupMessages(library(minfi)) # Package for loading and preprocessing methylation data from many sources including Illumina. See https://bioconductor.org/packages/devel/bioc/vignettes/minfi/inst/doc/minfi.html\n",
    "# library(minfiData) # Example dataset for minfi vignette.\n",
    "# library(conumee) # Package for estimating genomic copy number from methylation. See https://bioconductor.org/packages/devel/bioc/vignettes/conumee/inst/doc/conumee.html\n",
    "suppressPackageStartupMessages(library(Rtsne))  # t-stochastic neighbor embedding.\n",
    "suppressPackageStartupMessages(library(sva)) # one of many batch correction algorithms\n",
    "suppressPackageStartupMessages(library(tictoc)) # System time functions tic() and toc()"
   ]
  },
  {
   "cell_type": "markdown",
   "id": "91501d79-f203-4d3b-9f59-d65be4615dec",
   "metadata": {
    "tags": []
   },
   "source": [
    "# Stratification of patient medulloblastoma tumors by clustering of Illumina Infinium DNA methylation array data\n",
    "\n",
    "Download the dataset from https://datasets.genepattern.org/data/chapman/MBlandscape_subset_400.RData .  \n",
    "Published by Northcott et al., The whole-genome landscape of medulloblastoma subtypes, Nature 2017.  \n",
    "Raw microarray available (access controlled, don't distribute) at European Genome-Phenome Archive (EGA, http://www.ebi.ac.uk/ega/), under accession number EGAS00001001953.  \n"
   ]
  },
  {
   "cell_type": "code",
   "execution_count": null,
   "id": "459e1fe4-2374-40c4-9807-a8b10441d610",
   "metadata": {
    "tags": []
   },
   "outputs": [],
   "source": [
    "## Load preprocessed beta values of 400 medulloblastoma patients \n",
    "\n",
    "tic(\"Load MB dataset\")\n",
    "load(\"data/MBlandscape_subset_400.RData\") # for a local dataset stored in ./data\n",
    "# If using Genepattern Notebook, can alternately use:\n",
    "# load(url(\"https://datasets.genepattern.org/data/chapman/MBlandscape_subset_400.RData\"))\n",
    "toc()\n",
    "## MB data is now in a variable called `allbeta'."
   ]
  },
  {
   "cell_type": "code",
   "execution_count": null,
   "id": "99fa48c2-74fe-47d7-b17e-ade5364986e6",
   "metadata": {
    "tags": []
   },
   "outputs": [],
   "source": [
    "# For each CpG, calculate the standard deviation across the cohort and\n",
    "# order the CpGs according to their standard deviation (from top to bottom)\n",
    "# (This takes awhile)\n",
    "tic(\"Order CpG sites by variance\")\n",
    "allbeta.sd <- apply(allbeta, 1, sd, na.rm=TRUE)\n",
    "allbeta.ordered <- allbeta[order(allbeta.sd, decreasing=TRUE),]\n",
    "head(allbeta.ordered)\n",
    "toc() # 47s"
   ]
  },
  {
   "cell_type": "code",
   "execution_count": null,
   "id": "bb5a184f-6681-4f48-b592-e04fc5170a09",
   "metadata": {
    "tags": []
   },
   "outputs": [],
   "source": [
    "#Calculate Pearson correlation between all tumors based\n",
    "#on the 5k most variable CpGs\n",
    "tic(\"Sample correlation heatmap\")\n",
    "n.var = 5000\n",
    "b <- allbeta.ordered[1:n.var, ]\n",
    "\n",
    "#Caluclate Pearson correlations between samples/patients\n",
    "b.xcor <- cor(b, method=\"pearson\")\n",
    "\n",
    "# perform hierarchical sample clustering\n",
    "b.xdend <- as.dendrogram(hclust(as.dist(1-b.xcor), method=\"average\"))\n",
    "\n",
    "# Visualisation of pre-computed hierarchical sample/patient clustering\n",
    "cols <- colorRampPalette(c(\"blue\", \"white\", \"red\"))(100)\n",
    "heatmap(b.xcor, Rowv=b.xdend, col=cols, symm=TRUE, zlim=c(-1, 1), scale=\"none\", useRaster=TRUE,\n",
    "        cexCol=max(min(125*ncol(b)^-1.25, 1), 0.07), labRow=NA, main=paste(dim(b), collapse=\"x\"))\n",
    "#--> symmetric matrix of similarities between patients\n",
    "toc() # 46s"
   ]
  },
  {
   "cell_type": "code",
   "execution_count": null,
   "id": "13a8942f-ef2f-4692-b5cd-cbd8e513bc4f",
   "metadata": {
    "tags": []
   },
   "outputs": [],
   "source": [
    "# TSNE -  t-distributed stochastic neigborhood embedding\n",
    "# non-linear dimension reduction\n",
    "tic(\"t-sne\")\n",
    "set.seed(\"202401\")\n",
    "Y <- Rtsne(as.dist(1-b.xcor), verbose=FALSE, check_duplicates=FALSE, is_distance=TRUE,\n",
    "             perplexity=min(floor((ncol(b)-1)/3), 30), theta=0, pca=FALSE, max_iter=10000)$Y\n",
    "Y.range <- apply(Y, 2, range)\n",
    "Y.diff <- apply(Y.range, 2, diff)\n",
    "Y.center <- apply(Y.range, 2, mean)\n",
    "plot(Y, xlim=Y.center[1] + c(-0.5, 0.5)*max(Y.diff), ylim=Y.center[2] + c(-0.5, 0.5)*max(Y.diff),\n",
    "     xlab=\"TSNE 1\", ylab=\"TSNE 2\", pch=20, cex=1, col=\"black\", main=paste(dim(b), collapse=\"x\"), las=2)\n",
    "toc() # 9s"
   ]
  },
  {
   "cell_type": "code",
   "execution_count": null,
   "id": "b4c901e6-7cd1-468c-b712-6fbe99eb9ca0",
   "metadata": {},
   "outputs": [],
   "source": []
  }
 ],
 "metadata": {
  "kernelspec": {
   "display_name": "methylation",
   "language": "R",
   "name": "methylation"
  },
  "language_info": {
   "codemirror_mode": "r",
   "file_extension": ".r",
   "mimetype": "text/x-r-source",
   "name": "R",
   "pygments_lexer": "r",
   "version": "4.2.3"
  }
 },
 "nbformat": 4,
 "nbformat_minor": 5
}
